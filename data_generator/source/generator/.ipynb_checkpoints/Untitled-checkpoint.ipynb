{
 "cells": [
  {
   "cell_type": "code",
   "execution_count": 42,
   "metadata": {},
   "outputs": [],
   "source": [
    "import random\n",
    "import csv\n",
    "from random import choice"
   ]
  },
  {
   "cell_type": "code",
   "execution_count": 177,
   "metadata": {},
   "outputs": [],
   "source": [
    "def generate(num_of_records=20,start_point=1,end_point=10,random_duplicates=False, number_of_duplicates=5,beign_rand=1, end_rand=20, percent=50):\n",
    "    count=end_point-start_point+1\n",
    "    fraction=int((num_of_records*percent)/100)\n",
    "    print(fraction)\n",
    "    list_row=[]\n",
    "    list_row.append(([\"A\",\"B\"]))\n",
    "    exception_list=[]\n",
    "    i=  1\n",
    "    if random_duplicates is False:\n",
    "        count_dup_values=fraction/number_of_duplicates\n",
    "        print(count_dup_values)\n",
    "        for j in range(1,int(count_dup_values)+1):\n",
    "            #rand_index=random.choice([i for i in range(start_point,end_point) if i not in exception_list])\n",
    "            value=\"b\"+str(j)\n",
    "            next_val=generate(1,)\n",
    "            #exception_list.append(rand_index)\n",
    "            for k in range(number_of_duplicates):\n",
    "                key=\"a\"+str(i)\n",
    "                list_row.append([key, value])\n",
    "                i=i+1\n",
    "        k=fraction+1\n",
    "        j=j+1\n",
    "        print(k)\n",
    "        for k in range(num_of_records-fraction):\n",
    "            key=\"a\"+str(i)\n",
    "            value=\"b\"+str(j)\n",
    "            list_row.append([key, value])\n",
    "            i=i+1\n",
    "            j=j+1\n",
    "            \n",
    "    #count=end_point-start_point+1\n",
    "    #fraction=int((count*percent)/100)\n",
    "    #print(fraction)\n",
    "    #list_row=[]\n",
    "    #list_row.append(([\"A\",\"B\"]))\n",
    "    #exception_list=[]\n",
    "    #i=  1\n",
    "    #if random_duplicates is False:\n",
    "    #    for j in range(fraction):\n",
    "    #        print(\"b\"+str(i) in list_row)\n",
    "    #        rand_index=random.choice([i for i in range(start_point,end_point) if i not in exception_list])\n",
    "    #        value=\"b\"+str(rand_index)\n",
    "    #        exception_list.append(rand_index)\n",
    "    #        for k in range(number_of_duplicates):\n",
    "    #            key=\"a\"+str(i)\n",
    "    #            list_row.append([key, value])\n",
    "    #            i=i+1\n",
    "    #    j=1\n",
    "    #    for j in range(end_point+1,end_point+fraction+1):\n",
    "    #        key=\"a\"+str(i)\n",
    "    #        value=\"b\"+str(j)\n",
    "    #        list_row.append([key, value])\n",
    "    #        i=i+1\n",
    "    #else: \n",
    "    #for j in range(start_point,end_point):\n",
    "    #    #rand_num = random.randrange(beign_rand,end_rand)\n",
    "    #    for k in range(rand_num):\n",
    "    #        list_row.append([\"e\"+str(i), \"f\"+str(j)])\n",
    "    #        i=i+1\n",
    "    new_file = \"C:\\\\Users\\\\TorabinejadM\\\\Desktop\\\\Thesis\\\\implementation\\\\data-generator\\\\source\\\\generator\\\\test_data.csv\"\n",
    "    with open(new_file, 'w') as f_out:\n",
    "        writer = csv.writer(f_out)\n",
    "        writer.writerows(list_row)"
   ]
  },
  {
   "cell_type": "code",
   "execution_count": 178,
   "metadata": {},
   "outputs": [
    {
     "name": "stdout",
     "output_type": "stream",
     "text": [
      "10\n",
      "2.0\n",
      "11\n"
     ]
    }
   ],
   "source": [
    "generate()"
   ]
  },
  {
   "cell_type": "code",
   "execution_count": null,
   "metadata": {},
   "outputs": [],
   "source": []
  },
  {
   "cell_type": "code",
   "execution_count": 234,
   "metadata": {},
   "outputs": [],
   "source": [
    "def rec_func(i=0):\n",
    "    string=\"\"\n",
    "    for j in range(i,0,-1):\n",
    "        print(j)\n",
    "        if j == 1:\n",
    "            return string + str(j)+\",\"\n",
    "        else:\n",
    "            j=j-1\n",
    "            return string+rec_func(j)"
   ]
  },
  {
   "cell_type": "code",
   "execution_count": 235,
   "metadata": {},
   "outputs": [
    {
     "name": "stdout",
     "output_type": "stream",
     "text": [
      "3\n",
      "2\n",
      "1\n",
      "1,\n"
     ]
    }
   ],
   "source": [
    "print(rec_func(3))"
   ]
  },
  {
   "cell_type": "code",
   "execution_count": 240,
   "metadata": {},
   "outputs": [],
   "source": [
    "# Each function call represents an elf doing his work \n",
    "def deliver_presents_recursively(houses):\n",
    "    # Worker elf doing his work\n",
    "    if len(houses) == 1:\n",
    "        house = houses[0]\n",
    "        print(\"Delivering presents to\", house)\n",
    "\n",
    "    # Manager elf doing his work\n",
    "    else:\n",
    "        mid = len(houses) // 2\n",
    "        first_half = houses[:mid]\n",
    "        second_half = houses[mid:]\n",
    "\n",
    "        # Divides his work among two elves\n",
    "        deliver_presents_recursively(first_half)\n",
    "        deliver_presents_recursively(second_half)\n"
   ]
  },
  {
   "cell_type": "code",
   "execution_count": 241,
   "metadata": {},
   "outputs": [
    {
     "name": "stdout",
     "output_type": "stream",
     "text": [
      "Delivering presents to Eric's house\n",
      "Delivering presents to Kenny's house\n",
      "Delivering presents to Kyle's house\n",
      "Delivering presents to Stan's house\n"
     ]
    }
   ],
   "source": [
    "houses = [\"Eric's house\", \"Kenny's house\", \"Kyle's house\", \"Stan's house\"]\n",
    "deliver_presents_recursively(houses)"
   ]
  },
  {
   "cell_type": "code",
   "execution_count": null,
   "metadata": {},
   "outputs": [],
   "source": []
  },
  {
   "cell_type": "code",
   "execution_count": null,
   "metadata": {},
   "outputs": [],
   "source": []
  }
 ],
 "metadata": {
  "kernelspec": {
   "display_name": "Python 3",
   "language": "python",
   "name": "python3"
  },
  "language_info": {
   "codemirror_mode": {
    "name": "ipython",
    "version": 3
   },
   "file_extension": ".py",
   "mimetype": "text/x-python",
   "name": "python",
   "nbconvert_exporter": "python",
   "pygments_lexer": "ipython3",
   "version": "3.7.4"
  }
 },
 "nbformat": 4,
 "nbformat_minor": 2
}
