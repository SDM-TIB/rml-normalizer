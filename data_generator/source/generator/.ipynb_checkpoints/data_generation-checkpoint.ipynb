{
 "cells": [
  {
   "cell_type": "code",
   "execution_count": 3,
   "metadata": {},
   "outputs": [],
   "source": [
    "import random\n",
    "import csv\n",
    "from random import choice\n",
    "\n",
    "from itertools import combinations, product"
   ]
  },
  {
   "cell_type": "code",
   "execution_count": 4,
   "metadata": {},
   "outputs": [],
   "source": [
    "number_of_fds=3\n",
    "number_of_duplicates=2   "
   ]
  },
  {
   "cell_type": "code",
<<<<<<< HEAD
   "execution_count": 7,
   "metadata": {},
   "outputs": [
    {
     "name": "stdout",
     "output_type": "stream",
     "text": [
      "c1,d1,e1,f1\n",
      "c1,d1,e1,f2\n",
      "c1,d1,e2,f3\n",
      "c1,d1,e2,f4\n",
      "c1,d2,e3,f5\n",
      "c1,d2,e3,f6\n",
      "c1,d2,e4,f7\n",
      "c1,d2,e4,f8\n",
      "c2,d3,e5,f9\n",
      "c2,d3,e5,f10\n",
      "c2,d3,e6,f11\n",
      "c2,d3,e6,f12\n",
      "c2,d4,e7,f13\n",
      "c2,d4,e7,f14\n",
      "c2,d4,e8,f15\n",
      "c2,d4,e8,f16\n"
     ]
    }
   ],
=======
   "execution_count": null,
   "metadata": {},
   "outputs": [],
>>>>>>> 4d1041a29ebd310ce05999ac9a21df83a091d576
   "source": [
    "count_1=1\n",
    "count_2=1\n",
    "count_3=1\n",
    "for j in range(1,number_of_duplicates+1):\n",
    "        for i in range(1,number_of_duplicates+1):\n",
    "            for k in range(1,number_of_duplicates+1):\n",
    "                for k in range(1,number_of_duplicates+1):\n",
    "                    print(\"c\"+str(j)+\",\"+\"d\"+str(count_3)+\",\"+\"e\"+str(count_2)+\",\"+\"f\"+str(count_1))\n",
    "                    count_1=count_1+1\n",
    "                count_2=count_2+1\n",
    "            count_3=count_3+1"
   ]
  },
  {
   "cell_type": "code",
<<<<<<< HEAD
   "execution_count": 6,
=======
   "execution_count": 5,
>>>>>>> 4d1041a29ebd310ce05999ac9a21df83a091d576
   "metadata": {},
   "outputs": [
    {
     "name": "stdout",
     "output_type": "stream",
     "text": [
      "c1,d1,d1\n",
      "c1,d1,d2\n",
      "c2,d1,d3\n",
      "c2,d1,d4\n",
      "c1,d2,d5\n",
      "c1,d2,d6\n",
      "c2,d2,d7\n",
      "c2,d2,d8\n"
     ]
    }
   ],
   "source": [
    "count=1\n",
    "for j in range(1,number_of_duplicates+1):\n",
    "        for i in range(1,number_of_duplicates+1):\n",
    "            for k in range(1,number_of_duplicates+1):\n",
    "                print(\"c\"+str(i)+\",\"+\"d\"+str(j)+\",\"+\"d\"+str(count))\n",
    "                count=count+1"
   ]
  },
  {
   "cell_type": "code",
<<<<<<< HEAD
=======
   "execution_count": 6,
   "metadata": {},
   "outputs": [
    {
     "name": "stdout",
     "output_type": "stream",
     "text": [
      "c1,d1\n",
      "c2,d2\n",
      "c1,d3\n",
      "c2,d4\n"
     ]
    }
   ],
   "source": [
    "count=1\n",
    "for j in range(1,number_of_duplicates+1):\n",
    "        for i in range(1,number_of_duplicates+1):\n",
    "            print(\"c\"+str(i)+\",\"+\"d\"+str(count))\n",
    "            count=count+1"
   ]
  },
  {
   "cell_type": "code",
   "execution_count": 1,
   "metadata": {},
   "outputs": [
    {
     "ename": "SyntaxError",
     "evalue": "invalid syntax (<ipython-input-1-d0e1f7315e34>, line 10)",
     "output_type": "error",
     "traceback": [
      "\u001b[1;36m  File \u001b[1;32m\"<ipython-input-1-d0e1f7315e34>\"\u001b[1;36m, line \u001b[1;32m10\u001b[0m\n\u001b[1;33m    count=count+1|\u001b[0m\n\u001b[1;37m                  ^\u001b[0m\n\u001b[1;31mSyntaxError\u001b[0m\u001b[1;31m:\u001b[0m invalid syntax\n"
     ]
    }
   ],
   "source": [
    "def function_1(string=\"c\", num_of_dups=2,level=2,count=1):\n",
    "    new_string=\"\"\n",
    "    for j in range(1,num_of_dups+1):\n",
    "        if (level-1)==0:\n",
    "            if j==num_of_dups:\n",
    "                new_string=new_string+string+\",\"+\"d\"+str(count)\n",
    "                return new_string\n",
    "            else:\n",
    "                new_string=new_string+string+\",\"+\"d\"+str(count)+\",\"\n",
    "            count=count+1|\n",
    "        else:\n",
    "            string=str(function_1(string+str(j),num_of_dups,level-1,j*(num_of_dups-1))+1)\n",
    "            print(string)\n",
    "            string=\"c\"\n",
    "        #if (round_nr*num_of_dups)!=4:\n",
    "        #    #str=\"c\"+str(j)\n",
    "        #    new=string+str(j)+\",\"+str(function_1(string,num_of_dups,round_nr))\n",
    "        #    print(new)\n",
    "        #else:\n",
    "        #    round_nr=round_nr+1\n",
    "        #    return \"end\"+str(count)"
   ]
  },
  {
   "cell_type": "code",
   "execution_count": 68,
   "metadata": {},
   "outputs": [
    {
     "name": "stdout",
     "output_type": "stream",
     "text": [
      "c1,d2,c1,d3\n",
      "c2,d3,c2,d4\n"
     ]
    }
   ],
   "source": [
    "function_1()"
   ]
  },
  {
   "cell_type": "code",
   "execution_count": null,
   "metadata": {},
   "outputs": [],
   "source": []
  },
  {
   "cell_type": "code",
>>>>>>> 4d1041a29ebd310ce05999ac9a21df83a091d576
   "execution_count": null,
   "metadata": {},
   "outputs": [],
   "source": []
  }
 ],
 "metadata": {
  "kernelspec": {
   "display_name": "Python 3",
   "language": "python",
   "name": "python3"
  },
  "language_info": {
   "codemirror_mode": {
    "name": "ipython",
    "version": 3
   },
   "file_extension": ".py",
   "mimetype": "text/x-python",
   "name": "python",
   "nbconvert_exporter": "python",
   "pygments_lexer": "ipython3",
   "version": "3.7.4"
  }
 },
 "nbformat": 4,
 "nbformat_minor": 2
}
